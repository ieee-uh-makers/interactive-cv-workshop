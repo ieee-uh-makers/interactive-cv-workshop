{
 "cells": [
  {
   "cell_type": "code",
   "execution_count": 3,
   "metadata": {
    "pycharm": {
     "is_executing": false
    }
   },
   "outputs": [
    {
     "data": {
      "application/vnd.jupyter.widget-view+json": {
       "model_id": "d885cfb9c004451c88adbf653e4060d0",
       "version_major": 2,
       "version_minor": 0
      },
      "text/plain": [
       "VBox(children=(Image(value=b'', height='480', layout=\"Layout(width='100%')\", width='640'), Checkbox(value=Fals…"
      ]
     },
     "metadata": {},
     "output_type": "display_data"
    }
   ],
   "source": [
    "\"\"\"\n",
    "Important Stuff\n",
    "\"\"\"\n",
    "\n",
    "# OpenCV is a leading open source library for computer vision. To use it, we need to import it\n",
    "# The easiest way to install OpenCV is by installing Anaconda distribution of python available for free here:\n",
    "# https://www.anaconda.com/distribution/\n",
    "import cv2\n",
    "\n",
    "# Numpy is the leading python numerical library\n",
    "import numpy as np\n",
    "\n",
    "# Webcam index, this should be 0 for most laptops\n",
    "DEVICE = 4\n",
    "\n",
    "# We shrink outputput from the webcam in order to achieve a higher FPS\n",
    "WIDTH = 640\n",
    "HEIGHT = 480\n",
    "\n",
    "\"\"\"\n",
    "User Interface Stuff (You can ignore this)\n",
    "\"\"\"\n",
    "import IPython\n",
    "import ipywidgets as widgets\n",
    "from IPython.display import display\n",
    "\n",
    "ipython = IPython.get_ipython()\n",
    "\n",
    "style = {'description_width': 'initial'}\n",
    "\n",
    "w_image = widgets.Image(width=WIDTH, height=HEIGHT, format='png',\n",
    "                        layout=widgets.Layout(width='100%'))\n",
    "\n",
    "w_rescale = widgets.Checkbox(\n",
    "    value=False,\n",
    "    description='Rescale Intensity',\n",
    "    style=style\n",
    ")\n",
    "w_clip_std = widgets.FloatSlider(min=0.5, max=10, value=10.0, step=0.1, \n",
    "                                             description='Rescale: Clip MADs from Median',\n",
    "                                             layout=widgets.Layout(width='100%'),\n",
    "                                             style=style)\n",
    "w_drop = widgets.Dropdown(options=[\n",
    "    'No Equalization',\n",
    "    'Histogram Equalization',\n",
    "    'Adaptive Histogram Equalization',\n",
    "], style=style)\n",
    "\n",
    "w_blur = widgets.Checkbox(\n",
    "    value=False,\n",
    "    description='Gaussian Blur',\n",
    "    style=style\n",
    ")\n",
    "\n",
    "vbox = widgets.VBox([w_image, w_rescale, w_clip_std, w_drop, w_blur])\n",
    "\n",
    "display(vbox)"
   ]
  },
  {
   "cell_type": "code",
   "execution_count": 4,
   "metadata": {
    "pycharm": {
     "is_executing": false
    }
   },
   "outputs": [],
   "source": [
    "cap = cv2.VideoCapture(DEVICE)\n",
    "\n",
    "try:\n",
    "    while True:\n",
    "        # Have to call this to get update values from sliders / dropdowns\n",
    "        ipython.kernel.do_one_iteration()\n",
    "        \n",
    "        # Read the frame from the camera\n",
    "        ret, frame = cap.read()\n",
    "        \n",
    "        # Resize the frame to a lower resolution for performance reasons\n",
    "        img_original = cv2.resize(frame, (WIDTH, HEIGHT))\n",
    "\n",
    "        # Convert to LAB color space so we can act on overall image intensity rather than each color seperately\n",
    "        # https://en.wikipedia.org/wiki/CIELAB_color_space\n",
    "        img_lab = cv2.cvtColor(img_original, cv2.COLOR_BGR2LAB)\n",
    "        lab_planes = cv2.split(img_lab)\n",
    "        \n",
    "        img_intensity = lab_planes[0]\n",
    "        \n",
    "        if w_rescale.value:\n",
    "                        \n",
    "            # Convert from uint8 to floating point when scaling values\n",
    "            img_intensity = img_intensity.astype(np.float32)\n",
    "            \n",
    "            # Clip statistical outliers\n",
    "            \n",
    "            med_val = np.median(img_intensity)\n",
    "            mad_val = np.median(np.abs(img_intensity - med_val))\n",
    "            std_val = np.std(img_intensity)\n",
    "            \n",
    "            clip_min = med_val - mad_val*w_clip_std.value\n",
    "            clip_max = med_val + mad_val*w_clip_std.value\n",
    "            \n",
    "            img_intensity = np.clip(img_intensity, clip_min, clip_max)\n",
    "            \n",
    "            # Rescale between 0 and 1\n",
    "            img_intensity = img_intensity - np.min(img_intensity)\n",
    "            img_intensity = img_intensity / np.max(img_intensity)\n",
    "            \n",
    "            # Convert back to uint8\n",
    "            img_intensity = img_intensity * 255\n",
    "            img_intensity = img_intensity.astype(np.uint8)\n",
    "\n",
    "        if w_drop.value == 'Adaptive Histogram Equalization':\n",
    "            clahe = cv2.createCLAHE(clipLimit=2.0,tileGridSize=(4, 4))\n",
    "            img_intensity = clahe.apply(img_intensity)\n",
    "        elif w_drop.value == 'Histogram Equalization':\n",
    "            img_intensity = cv2.equalizeHist(img_intensity)\n",
    "\n",
    "        if w_blur.value:\n",
    "            img_intensity = cv2.GaussianBlur(img_intensity, (5,5), 0)\n",
    "            \n",
    "        lab_planes[0] = img_intensity\n",
    "            \n",
    "        lab = cv2.merge(lab_planes)\n",
    "        draw_image = cv2.cvtColor(lab, cv2.COLOR_LAB2BGR)\n",
    "\n",
    "        # Visualization Code\n",
    "        result, img_png = cv2.imencode('.png', draw_image)\n",
    "        w_image.value = img_png.tobytes()\n",
    "\n",
    "\n",
    "        \n",
    "except KeyboardInterrupt:\n",
    "    pass\n",
    "finally:\n",
    "    cap.release()\n"
   ]
  },
  {
   "cell_type": "code",
   "execution_count": null,
   "metadata": {},
   "outputs": [],
   "source": []
  }
 ],
 "metadata": {
  "kernelspec": {
   "display_name": "Python 3",
   "language": "python",
   "name": "python3"
  },
  "language_info": {
   "codemirror_mode": {
    "name": "ipython",
    "version": 3
   },
   "file_extension": ".py",
   "mimetype": "text/x-python",
   "name": "python",
   "nbconvert_exporter": "python",
   "pygments_lexer": "ipython3",
   "version": "3.7.3"
  }
 },
 "nbformat": 4,
 "nbformat_minor": 2
}
